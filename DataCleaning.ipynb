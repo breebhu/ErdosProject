{
 "cells": [
  {
   "cell_type": "code",
   "execution_count": null,
   "metadata": {},
   "outputs": [],
   "source": [
    "import numpy as np\n",
    "import pandas as pd\n",
    "import matplotlib.pyplot as plt\n",
    "import math\n",
    "import re\n",
    "import seaborn as sns"
   ]
  },
  {
   "cell_type": "code",
   "execution_count": null,
   "metadata": {
    "scrolled": true
   },
   "outputs": [],
   "source": [
    "# import from csv fine and see the head\n",
    "mov_train=pd.read_csv(\"./DataSets/mov_train.csv\")\n",
    "mov_train.head()\n",
    "actors=pd.read_csv(\"./DataSets/actors.csv\")\n",
    "actors['name'] = actors['Unnamed: 0']\n",
    "actors.head()\n",
    "good_actors = actors[actors.Score>0.45]\n",
    "good_actors.head()"
   ]
  },
  {
   "cell_type": "code",
   "execution_count": null,
   "metadata": {},
   "outputs": [],
   "source": [
    "# drop unnecessary columns\n",
    "mov_train.drop(columns = ['id', 'Unnamed: 0','belongs_to_collection','homepage','overview','poster_path','tagline'],inplace=True)"
   ]
  },
  {
   "cell_type": "code",
   "execution_count": null,
   "metadata": {},
   "outputs": [],
   "source": [
    "# check if any movie is not released\n",
    "mov_train[mov_train['status']!='Released']"
   ]
  },
  {
   "cell_type": "code",
   "execution_count": null,
   "metadata": {},
   "outputs": [],
   "source": [
    "# extract all the genres\n",
    "genres=set()\n",
    "for item in budget_zero.genres:\n",
    "    print(type(item) == str)\n",
    "    if isinstance(item,str):\n",
    "        x=re.finditer(\"(\\'name\\':\\s\\')(?P<name>\\w*)(?=\\')\",item)\n",
    "        for s in x:\n",
    "            genres.add(s.groupdict()['name'])\n",
    "print(genres)"
   ]
  },
  {
   "cell_type": "code",
   "execution_count": null,
   "metadata": {},
   "outputs": [],
   "source": [
    "# created new colums for month and year and filled it in by extracting them from the release date\n",
    "mov_train['month']=0\n",
    "mov_train['year']=0\n",
    "for j in mov_train.index:\n",
    "    string=mov_train['release_date'].iloc[j]\n",
    "    x=re.findall(\"([\\d]{1,2})/([\\d]{1,2})/([\\d]{1,2})\",string)\n",
    "    mov_train.loc[j,\"month\"] = int(x[0][0])\n",
    "    year = int(x[0][2])\n",
    "    if year<23:\n",
    "        mov_train.loc[j,\"year\"] = 2000 + year\n",
    "    else:\n",
    "        mov_train.loc[j,\"year\"] = 1900+ year"
   ]
  },
  {
   "cell_type": "code",
   "execution_count": null,
   "metadata": {},
   "outputs": [],
   "source": [
    "mov_train['year'].min()"
   ]
  },
  {
   "cell_type": "code",
   "execution_count": null,
   "metadata": {},
   "outputs": [],
   "source": [
    "# we want to adjust the revenue and budget to account for inflation\n",
    "inflation=pd.read_csv(\".\\DataSets\\inflation_data.csv\")"
   ]
  },
  {
   "cell_type": "code",
   "execution_count": null,
   "metadata": {},
   "outputs": [],
   "source": [
    "inflation.loc[0,'amount']"
   ]
  },
  {
   "cell_type": "code",
   "execution_count": null,
   "metadata": {},
   "outputs": [],
   "source": [
    "revenue_zero = mov_train[mov_train['revenue']==0]\n",
    "print(revenue_zero)"
   ]
  },
  {
   "cell_type": "code",
   "execution_count": null,
   "metadata": {},
   "outputs": [],
   "source": [
    "mov_train['infl_budget']=0\n",
    "mov_train['infl_revenue']=0"
   ]
  },
  {
   "cell_type": "code",
   "execution_count": null,
   "metadata": {
    "scrolled": true
   },
   "outputs": [],
   "source": [
    "for j in mov_train.index:\n",
    "    x = mov_train.loc[j,\"year\"]\n",
    "    y = inflation.loc[x-1900,'amount']\n",
    "    mov_train.loc[j,'infl_budget'] = mov_train.loc[j,'budget']*35.48/y\n",
    "    mov_train.loc[j,'infl_revenue'] = mov_train.loc[j,'revenue']*35.48/y\n",
    "    \n",
    "mov_train.head()"
   ]
  },
  {
   "cell_type": "code",
   "execution_count": null,
   "metadata": {},
   "outputs": [],
   "source": [
    "# for films which have budget = 0, we will replace it with the average of budget of all films released within 3 years of that movie, and sharing a genre\n",
    "mov_train['mod_budget'] = mov_train['infl_budget']\n",
    "budget_zero = mov_train[mov_train['budget']==0]\n",
    "for j in budget_zero.index:\n",
    "    x = budget_zero.loc[j,'year']\n",
    "    this_genres=set()\n",
    "    item = budget_zero.loc[j,'genres']\n",
    "    if(type(item)==str):\n",
    "        y=re.finditer(\"(\\'name\\':\\s\\')(?P<name>\\w*)(?=\\')\",item)\n",
    "        for s in y:\n",
    "            this_genres.add(s.groupdict()['name'])\n",
    "    total = 0\n",
    "    total_2 = 0\n",
    "    count = 0\n",
    "    count_2 = 0\n",
    "    for k in mov_train.index:\n",
    "        if k not in budget_zero.index:\n",
    "            if abs(mov_train.loc[k,'year'] - x)<= 3:\n",
    "                total_2 = total_2 + mov_train.loc[k,'infl_budget']\n",
    "                count_2 = count_2 + 1\n",
    "                that_genres=set()\n",
    "                item = mov_train.loc[k,'genres']\n",
    "                if(type(item)==str):\n",
    "                    y=re.finditer(\"(\\'name\\':\\s\\')(?P<name>\\w*)(?=\\')\",item)\n",
    "                    for s in y:\n",
    "                        that_genres.add(s.groupdict()['name'])\n",
    "                    if len(this_genres.intersection(that_genres))!= 0:\n",
    "                        total = total + mov_train.loc[k,'infl_budget']\n",
    "                        count = count + 1\n",
    "    if count == 0:\n",
    "        average = total_2/count_2\n",
    "    else:\n",
    "        average = total/count\n",
    "    mov_train.loc[j,'mod_budget'] = average"
   ]
  },
  {
   "cell_type": "code",
   "execution_count": null,
   "metadata": {},
   "outputs": [],
   "source": [
    "pd.plotting.scatter_matrix(mov_train[['mod_budget','popularity','runtime','imdb_rating','infl_revenue']])"
   ]
  },
  {
   "cell_type": "code",
   "execution_count": null,
   "metadata": {},
   "outputs": [],
   "source": [
    "corr_matrix1 = mov_train[['mod_budget','popularity','runtime','imdb_rating','infl_revenue']].corr()\n",
    "print(corr_matrix1)"
   ]
  },
  {
   "cell_type": "code",
   "execution_count": null,
   "metadata": {},
   "outputs": [],
   "source": [
    "from sklearn.preprocessing import StandardScaler\n",
    "from sklearn.preprocessing import MinMaxScaler\n",
    "mov_train_standard=mov_train.copy()\n",
    "scaler=StandardScaler()\n",
    "scaler.fit(mov_train_standard[['mod_budget','popularity','runtime','imdb_rating','infl_revenue']])\n",
    "mov_train_standard[['mod_budget','popularity','runtime','imdb_rating','infl_revenue']]=scaler.transform(mov_train_standard[['mod_budget','popularity','runtime','imdb_rating','infl_revenue']])"
   ]
  },
  {
   "cell_type": "code",
   "execution_count": null,
   "metadata": {},
   "outputs": [],
   "source": [
    "corr_matrix2 = mov_train_standard[['mod_budget','popularity','runtime','imdb_rating','infl_revenue']].corr()\n",
    "print(corr_matrix2)"
   ]
  },
  {
   "cell_type": "code",
   "execution_count": null,
   "metadata": {},
   "outputs": [],
   "source": [
    "from sklearn.preprocessing import StandardScaler\n",
    "from sklearn.preprocessing import MinMaxScaler\n",
    "mov_train_minmax=mov_train.copy()\n",
    "scaler2=MinMaxScaler()\n",
    "scaler2.fit(mov_train_minmax[['mod_budget','popularity','runtime','imdb_rating','infl_revenue']])\n",
    "mov_train_minmax[['mod_budget','popularity','runtime','imdb_rating','infl_revenue']]=scaler2.transform(mov_train_minmax[['mod_budget','popularity','runtime','imdb_rating','infl_revenue']])"
   ]
  },
  {
   "cell_type": "code",
   "execution_count": null,
   "metadata": {},
   "outputs": [],
   "source": [
    "corr_matrix3 = mov_train_minmax[['mod_budget','popularity','runtime','imdb_rating','infl_revenue']].corr()\n",
    "print(corr_matrix3)"
   ]
  },
  {
   "cell_type": "code",
   "execution_count": null,
   "metadata": {},
   "outputs": [],
   "source": [
    "mov_train['log_mod_budget']=np.log(mov_train['mod_budget'])\n",
    "mov_train['log_infl_revenue']=np.log(mov_train['infl_revenue'])"
   ]
  },
  {
   "cell_type": "code",
   "execution_count": null,
   "metadata": {},
   "outputs": [],
   "source": [
    "corr_matrix4 = mov_train[['log_mod_budget','popularity','runtime','imdb_rating','log_infl_revenue']].corr()\n",
    "print(corr_matrix4)"
   ]
  },
  {
   "cell_type": "code",
   "execution_count": null,
   "metadata": {},
   "outputs": [],
   "source": [
    "mov_train['num_good_actors']=0\n",
    "for j in mov_train.index:\n",
    "    set_actors=set()\n",
    "    item = mov_train.loc[j,'cast']\n",
    "    if(type(item)==str):\n",
    "        x=re.finditer(\"(\\'name\\':\\s\\')(?P<name>[\\w\\.\\s]*)(?=\\')\",item)\n",
    "        for s in x:\n",
    "            set_actors.add(s.groupdict()['name'])\n",
    "    for actor in set_actors:\n",
    "        if actor in good_actors['name'].values:\n",
    "            mov_train.loc[j,'num_good_actors'] = mov_train.loc[j,'num_good_actors'] + 1"
   ]
  },
  {
   "cell_type": "code",
   "execution_count": null,
   "metadata": {},
   "outputs": [],
   "source": [
    "corr_matrix5 = mov_train[['infl_revenue','log_infl_revenue','num_good_actors']].corr()\n",
    "print(corr_matrix5)"
   ]
  },
  {
   "cell_type": "code",
   "execution_count": null,
   "metadata": {
    "scrolled": true
   },
   "outputs": [],
   "source": [
    "ax1 = mov_train.plot.scatter(x='infl_revenue',y='num_good_actors',c='DarkBlue')"
   ]
  },
  {
   "cell_type": "code",
   "execution_count": null,
   "metadata": {
    "scrolled": true
   },
   "outputs": [],
   "source": [
    "ax1 = mov_train.plot.scatter(x='popularity',y='num_good_actors',c='DarkBlue')"
   ]
  },
  {
   "cell_type": "code",
   "execution_count": null,
   "metadata": {},
   "outputs": [],
   "source": [
    "genres=set()\n",
    "for item in mov_train.genres:\n",
    "    if(type(item)==str):\n",
    "        x=re.finditer(\"(\\'name\\':\\s\\')(?P<name>\\w*)(?=\\')\",item)\n",
    "        for s in x:\n",
    "            genres.add(s.groupdict()['name'])"
   ]
  },
  {
   "cell_type": "code",
   "execution_count": null,
   "metadata": {},
   "outputs": [],
   "source": [
    "for genre in genres:\n",
    "    mov_train[genre]=0"
   ]
  },
  {
   "cell_type": "code",
   "execution_count": null,
   "metadata": {},
   "outputs": [],
   "source": [
    "for genre in genres:\n",
    "    mov_train[genre]=0\n",
    "for j in mov_train.index:\n",
    "    row_genres=set()\n",
    "    item = mov_train.loc[j,'genres']\n",
    "    if(type(item)==str):\n",
    "        x=re.finditer(\"(\\'name\\':\\s\\')(?P<name>\\w*)(?=\\')\",item)\n",
    "        for s in x:\n",
    "            row_genres.add(s.groupdict()['name'])\n",
    "    for genre in row_genres:\n",
    "        mov_train.loc[j,genre]=mov_train.loc[j,genre]+1\n",
    "mov_train.head()"
   ]
  },
  {
   "cell_type": "code",
   "execution_count": null,
   "metadata": {},
   "outputs": [],
   "source": [
    "corr_matrix6 = mov_train[['infl_revenue','log_infl_revenue','num_good_actors','Drama','Action']].corr()\n",
    "print(corr_matrix6)"
   ]
  },
  {
   "cell_type": "code",
   "execution_count": null,
   "metadata": {},
   "outputs": [],
   "source": [
    "mov_train['phony']= 1"
   ]
  },
  {
   "cell_type": "code",
   "execution_count": null,
   "metadata": {},
   "outputs": [],
   "source": [
    "mov_train['imdb_rating'].fillna(mov_train['imdb_rating'].mean(),inplace = True)"
   ]
  },
  {
   "cell_type": "code",
   "execution_count": null,
   "metadata": {},
   "outputs": [],
   "source": [
    "mov_train['runtime'].fillna(mov_train['runtime'].mean(),inplace = True)"
   ]
  },
  {
   "cell_type": "code",
   "execution_count": null,
   "metadata": {},
   "outputs": [],
   "source": [
    "mov_train[mov_train.num_good_actors > 1].head()"
   ]
  },
  {
   "cell_type": "code",
   "execution_count": null,
   "metadata": {},
   "outputs": [],
   "source": [
    "from sklearn.linear_model import LinearRegression"
   ]
  },
  {
   "cell_type": "code",
   "execution_count": null,
   "metadata": {},
   "outputs": [],
   "source": [
    "reg=LinearRegression(copy_X=True,fit_intercept=False)"
   ]
  },
  {
   "cell_type": "code",
   "execution_count": null,
   "metadata": {},
   "outputs": [],
   "source": [
    "x_train = mov_train[['mod_budget','num_good_actors','runtime','popularity','imdb_rating','phony','Fantasy','Drama','Mystery','Horror','Animation','Romance']]"
   ]
  },
  {
   "cell_type": "code",
   "execution_count": null,
   "metadata": {},
   "outputs": [],
   "source": [
    "y_train = mov_train['infl_revenue']"
   ]
  },
  {
   "cell_type": "code",
   "execution_count": null,
   "metadata": {},
   "outputs": [],
   "source": [
    "reg.fit(x_train,y_train)"
   ]
  },
  {
   "cell_type": "code",
   "execution_count": null,
   "metadata": {},
   "outputs": [],
   "source": [
    "reg.coef_"
   ]
  },
  {
   "cell_type": "code",
   "execution_count": null,
   "metadata": {},
   "outputs": [],
   "source": [
    "mov_test=pd.read_csv(\"./DataSets/mov_test.csv\")\n",
    "mov_test.head()   "
   ]
  },
  {
   "cell_type": "code",
   "execution_count": null,
   "metadata": {},
   "outputs": [],
   "source": [
    "mov_test['month']=0\n",
    "mov_test['year']=0"
   ]
  },
  {
   "cell_type": "code",
   "execution_count": null,
   "metadata": {
    "scrolled": true
   },
   "outputs": [],
   "source": [
    "mov_test.dropna(subset=['release_date'],inplace=True)\n",
    "mov_test.info()"
   ]
  },
  {
   "cell_type": "code",
   "execution_count": null,
   "metadata": {},
   "outputs": [],
   "source": [
    "mov_test.loc[4397,\"release_date\"]"
   ]
  },
  {
   "cell_type": "code",
   "execution_count": null,
   "metadata": {},
   "outputs": [],
   "source": [
    "for j in mov_test.index:\n",
    "    string=mov_test.loc[j,'release_date']\n",
    "    x=re.findall(\"([\\d]{1,2})/([\\d]{1,2})/([\\d]{1,2})\",string)\n",
    "    mov_test.loc[j,\"month\"] = int(x[0][0])\n",
    "    year = int(x[0][2])\n",
    "    if year<23:\n",
    "        mov_test.loc[j,\"year\"] = 2000 + year\n",
    "    else:\n",
    "        mov_test.loc[j,\"year\"] = 1900+ year"
   ]
  },
  {
   "cell_type": "code",
   "execution_count": null,
   "metadata": {},
   "outputs": [],
   "source": [
    "mov_test['infl_budget']=0\n",
    "mov_test['infl_revenue']=0"
   ]
  },
  {
   "cell_type": "code",
   "execution_count": null,
   "metadata": {},
   "outputs": [],
   "source": [
    "for j in mov_test.index:\n",
    "    x = mov_test.loc[j,\"year\"]\n",
    "    y = inflation.loc[x-1900,'amount']\n",
    "    mov_test.loc[j,'infl_budget'] = mov_test.loc[j,'budget']*35.48/y\n",
    "    \n",
    "mov_test.head()"
   ]
  },
  {
   "cell_type": "code",
   "execution_count": null,
   "metadata": {},
   "outputs": [],
   "source": [
    "mov_test['mod_budget'] = mov_test['infl_budget']\n",
    "mov_test.head()"
   ]
  },
  {
   "cell_type": "code",
   "execution_count": null,
   "metadata": {},
   "outputs": [],
   "source": [
    "budget_zero = mov_test[mov_test['budget']==0]\n",
    "for j in budget_zero.index:\n",
    "    x = budget_zero.loc[j,'year']\n",
    "    this_genres=set()\n",
    "    item = budget_zero.loc[j,'genres']\n",
    "    if(type(item)==str):\n",
    "        y=re.finditer(\"(\\'name\\':\\s\\')(?P<name>\\w*)(?=\\')\",item)\n",
    "        for s in y:\n",
    "            this_genres.add(s.groupdict()['name'])\n",
    "    total = 0\n",
    "    total_2 = 0\n",
    "    count = 0\n",
    "    count_2 = 0\n",
    "    for k in mov_test.index:\n",
    "        if k not in budget_zero.index:\n",
    "            if abs(mov_test.loc[k,'year'] - x)<= 3:\n",
    "                total_2 = total_2 + mov_test.loc[k,'infl_budget']\n",
    "                count_2 = count_2 + 1\n",
    "                that_genres=set()\n",
    "                item = mov_test.loc[k,'genres']\n",
    "                if(type(item)==str):\n",
    "                    y=re.finditer(\"(\\'name\\':\\s\\')(?P<name>\\w*)(?=\\')\",item)\n",
    "                    for s in y:\n",
    "                        that_genres.add(s.groupdict()['name'])\n",
    "                    if len(this_genres.intersection(that_genres))!= 0:\n",
    "                        total = total + mov_test.loc[k,'infl_budget']\n",
    "                        count = count + 1\n",
    "    if count == 0:\n",
    "        average = total_2/count_2\n",
    "    else:\n",
    "        average = total/count\n",
    "    mov_test.loc[j,'mod_budget'] = average"
   ]
  },
  {
   "cell_type": "code",
   "execution_count": null,
   "metadata": {},
   "outputs": [],
   "source": [
    "mov_test['num_good_actors']=0\n",
    "for j in mov_test.index:\n",
    "    set_actors=set()\n",
    "    item = mov_test.loc[j,'cast']\n",
    "    if(type(item)==str):\n",
    "        x=re.finditer(\"(\\'name\\':\\s\\')(?P<name>[\\w\\.\\s]*)(?=\\')\",item)\n",
    "        for s in x:\n",
    "            set_actors.add(s.groupdict()['name'])\n",
    "    for actor in set_actors:\n",
    "        if actor in good_actors['name'].values:\n",
    "            mov_test.loc[j,'num_good_actors'] = mov_test.loc[j,'num_good_actors'] + 1"
   ]
  },
  {
   "cell_type": "code",
   "execution_count": null,
   "metadata": {},
   "outputs": [],
   "source": [
    "for genre in genres:\n",
    "    mov_test[genre]=0\n",
    "for j in mov_test.index:\n",
    "    row_genres=set()\n",
    "    item = mov_test.loc[j,'genres']\n",
    "    if(type(item)==str):\n",
    "        x=re.finditer(\"(\\'name\\':\\s\\')(?P<name>\\w*)(?=\\')\",item)\n",
    "        for s in x:\n",
    "            row_genres.add(s.groupdict()['name'])\n",
    "    for genre in row_genres:\n",
    "        mov_test.loc[j,genre]=mov_test.loc[j,genre]+1\n",
    "mov_test.head()"
   ]
  },
  {
   "cell_type": "code",
   "execution_count": null,
   "metadata": {},
   "outputs": [],
   "source": [
    "mov_test['runtime'].fillna(mov_test['runtime'].mean(),inplace = True)"
   ]
  },
  {
   "cell_type": "code",
   "execution_count": null,
   "metadata": {},
   "outputs": [],
   "source": [
    "y_pred = reg.predict(x_train)"
   ]
  },
  {
   "cell_type": "code",
   "execution_count": null,
   "metadata": {},
   "outputs": [],
   "source": [
    "print('The MSE is',np.sum(np.power(y_train-y_pred,2))/(len(y_train)*(mov_train['infl_revenue'].mean())*(mov_train['infl_revenue'].mean())))"
   ]
  },
  {
   "cell_type": "code",
   "execution_count": null,
   "metadata": {},
   "outputs": [],
   "source": [
    "mov_train['pred_revenue']=pd.Series(y_pred)"
   ]
  },
  {
   "cell_type": "code",
   "execution_count": null,
   "metadata": {},
   "outputs": [],
   "source": [
    "mov_train[['title','infl_revenue','pred_revenue']].head()"
   ]
  },
  {
   "cell_type": "code",
   "execution_count": null,
   "metadata": {},
   "outputs": [],
   "source": [
    "# add homepage revenue comparison\n",
    "# add number of films by genre and the average revenue for each\n",
    "# add number of films in each year and average revenue by year\n",
    "# do good production companies similar to good actors"
   ]
  }
 ],
 "metadata": {
  "kernelspec": {
   "display_name": "Python 3",
   "language": "python",
   "name": "python3"
  },
  "language_info": {
   "codemirror_mode": {
    "name": "ipython",
    "version": 3
   },
   "file_extension": ".py",
   "mimetype": "text/x-python",
   "name": "python",
   "nbconvert_exporter": "python",
   "pygments_lexer": "ipython3",
   "version": "3.8.3"
  }
 },
 "nbformat": 4,
 "nbformat_minor": 4
}
